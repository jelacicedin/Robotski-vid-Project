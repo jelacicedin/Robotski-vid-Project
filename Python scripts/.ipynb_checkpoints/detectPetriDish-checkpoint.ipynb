{
 "cells": [
  {
   "cell_type": "code",
   "execution_count": 1,
   "metadata": {},
   "outputs": [
    {
     "ename": "SyntaxError",
     "evalue": "'return' outside function (<ipython-input-1-fb7f3070f911>, line 38)",
     "output_type": "error",
     "traceback": [
      "\u001b[1;36m  File \u001b[1;32m\"<ipython-input-1-fb7f3070f911>\"\u001b[1;36m, line \u001b[1;32m38\u001b[0m\n\u001b[1;33m    return\u001b[0m\n\u001b[1;37m    ^\u001b[0m\n\u001b[1;31mSyntaxError\u001b[0m\u001b[1;31m:\u001b[0m 'return' outside function\n"
     ]
    }
   ],
   "source": [
    "orImage=RV.loadImage(\"petriDish_test.jpg\")\n",
    "def getPetriDish(iImage):\n",
    "    import cv2\n",
    "    import matplotlib.pyplot as plt\n",
    "    import detObjFunc as RV\n",
    "    from PIL import Image\n",
    "    import numpy as np\n",
    "\n",
    "    #var init\n",
    "    draw=1\n",
    "    minR=200\n",
    "    #load and grayscale\n",
    "    \n",
    "    grImage=cv2.cvtColor(iImage,cv2.COLOR_RGB2GRAY)\n",
    "    if draw:\n",
    "        RV.showImage(iImage,\"Original Image\")\n",
    "        #RV.showImage(grImage,\"Gray Image\")\n",
    "\n",
    "    #hough circles\n",
    "    foundVar=cv2.HoughCircles(grImage,cv2.HOUGH_GRADIENT,1.2,minR)\n",
    "\n",
    "    if foundVar is not None:\n",
    "        foundVar=np.round(foundVar[0,:]).astype(\"int\")\n",
    "    drImage=iImage\n",
    "    rMax=np.max(foundVar,axis=0)[2]\n",
    "    i=0;\n",
    "    iMax=-1\n",
    "    for (x,y,r) in foundVar:\n",
    "        if r==rMax:\n",
    "            iMax=i;\n",
    "            drImage=cv2.circle(drImage,(x,y),r,(0,0,255),2)\n",
    "        else:\n",
    "            drImage=cv2.circle(drImage,(x,y),r,(255,0,0),2)\n",
    "        i=i+1\n",
    "    if draw:\n",
    "        RV.showImage(drImage,\"Found circles\")\n",
    "        print(iMax)\n",
    "        print(\"xCoord= \"+str(foundVar[0,iMax])+\" \\nyCoord= \"+str(foundVar[1,iMax])+\" \\nradius= \"+str(foundVar[2,iMax]))\n",
    "    return (foundVar[0,iMax],foundVar[1,iMax],foundVar[2,iMax])\n",
    "getPetriDish"
   ]
  },
  {
   "cell_type": "code",
   "execution_count": 22,
   "metadata": {},
   "outputs": [
    {
     "name": "stdout",
     "output_type": "stream",
     "text": [
      "[[338 357 306]\n",
      " [211 202 112]\n",
      " [505 247 102]\n",
      " [133 436  90]\n",
      " [531 453  91]\n",
      " [364 572  89]]\n",
      "306\n"
     ]
    }
   ],
   "source": [
    "print(foundVar)\n",
    "print(np.max(foundVar,axis=0)[2])"
   ]
  }
 ],
 "metadata": {
  "kernelspec": {
   "display_name": "Python 3",
   "language": "python",
   "name": "python3"
  },
  "language_info": {
   "codemirror_mode": {
    "name": "ipython",
    "version": 3
   },
   "file_extension": ".py",
   "mimetype": "text/x-python",
   "name": "python",
   "nbconvert_exporter": "python",
   "pygments_lexer": "ipython3",
   "version": "3.8.2"
  }
 },
 "nbformat": 4,
 "nbformat_minor": 4
}
